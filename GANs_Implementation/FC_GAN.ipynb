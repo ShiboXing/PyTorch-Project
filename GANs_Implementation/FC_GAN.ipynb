{
 "cells": [
  {
   "cell_type": "code",
   "execution_count": 7,
   "metadata": {},
   "outputs": [],
   "source": [
    "import torch\n",
    "import torchvision\n",
    "import torch.nn as nn\n",
    "import torch.nn.functional as F\n",
    "from torchvision import datasets\n",
    "from torchvision import transforms\n",
    "from torchvision.utils import save_image\n",
    "from torch.autograd import Variable\n",
    "import os\n",
    " \n",
    "if not os.path.exists('./img'):\n",
    "    os.mkdir('./img')\n",
    " \n",
    " \n",
    "def to_img(x):\n",
    "    out = 0.5 * (x + 1)\n",
    "    out = out.clamp(0, 1)\n",
    "    out = out.view(-1, 1, 28, 28)\n",
    "    return out\n",
    "\n",
    "batch_size = 128\n",
    "num_epoch = 100\n",
    "z_dimension = 100\n",
    " \n",
    "# Image processing\n",
    "img_transform = transforms.Compose([\n",
    "    transforms.ToTensor(),\n",
    "    transforms.Normalize(mean=(0.5, 0.5, 0.5), std=(0.5, 0.5, 0.5))\n",
    "])\n",
    "# MNIST dataset\n",
    "mnist = datasets.MNIST(\n",
    "    root='./data/', train=True, \\\n",
    "    transform = transforms.Compose([ transforms.ToTensor(),\\\n",
    "                                    transforms.Normalize((0.1307,), (0.3081,)) ]), download=True)\n",
    "# Data loader\n",
    "dataloader = torch.utils.data.DataLoader(dataset=mnist, batch_size=batch_size, shuffle=True)\n",
    "\n",
    "\n",
    "    "
   ]
  },
  {
   "cell_type": "markdown",
   "metadata": {},
   "source": [
    "# DISCRIMINATOR"
   ]
  },
  {
   "cell_type": "code",
   "execution_count": null,
   "metadata": {},
   "outputs": [],
   "source": [
    "class discriminator(nn.Module):\n",
    "    def __init__(self):\n",
    "        super(discriminator, self).__init__()\n",
    "        self.conv1 = nn.Sequential(\n",
    "            nn.Conv2d(1, 32, 5, padding=2),  # batch, 32, 28, 28\n",
    "            nn.LeakyReLU(0.2, True),\n",
    "            nn.AvgPool2d(2, stride=2),  # batch, 32, 14, 14\n",
    "            )\n",
    "        self.conv2 = nn.Sequential(\n",
    "            nn.Conv2d(32, 64, 5, padding=2),  # batch, 64, 14, 14\n",
    "            nn.LeakyReLU(0.2, True),\n",
    "            nn.AvgPool2d(2, stride=2)  # batch, 64, 7, 7\n",
    "        )\n",
    "        self.fc = nn.Sequential(\n",
    "            nn.Linear(64*7*7, 1024),\n",
    "            nn.LeakyReLU(0.2, True),\n",
    "            nn.Linear(1024, 1),\n",
    "            nn.Sigmoid()\n",
    "        )\n",
    " \n",
    "    def forward(self, x):\n",
    "        '''\n",
    "        x: batch, width, height, channel=1\n",
    "        '''\n",
    "        x = self.conv1(x)\n",
    "        x = self.conv2(x)\n",
    "        x = x.view(x.size(0), -1)\n",
    "        x = self.fc(x)\n",
    "        return x"
   ]
  },
  {
   "cell_type": "code",
   "execution_count": null,
   "metadata": {},
   "outputs": [],
   "source": []
  }
 ],
 "metadata": {
  "kernelspec": {
   "display_name": "Python 3",
   "language": "python",
   "name": "python3"
  },
  "language_info": {
   "codemirror_mode": {
    "name": "ipython",
    "version": 3
   },
   "file_extension": ".py",
   "mimetype": "text/x-python",
   "name": "python",
   "nbconvert_exporter": "python",
   "pygments_lexer": "ipython3",
   "version": "3.7.0"
  }
 },
 "nbformat": 4,
 "nbformat_minor": 4
}
